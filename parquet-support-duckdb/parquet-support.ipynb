{
 "cells": [
  {
   "cell_type": "code",
   "execution_count": 2,
   "id": "ea9778a8",
   "metadata": {},
   "outputs": [
    {
     "name": "stdout",
     "output_type": "stream",
     "text": [
      "Requirement already satisfied: duckdb in /Users/1102680/ws/test/duckdb/.venv/lib/python3.13/site-packages (1.3.1)\n",
      "Requirement already satisfied: pandas in /Users/1102680/ws/test/duckdb/.venv/lib/python3.13/site-packages (2.3.0)\n",
      "Collecting pyarrow\n",
      "  Downloading pyarrow-20.0.0-cp313-cp313-macosx_12_0_arm64.whl.metadata (3.3 kB)\n",
      "Requirement already satisfied: numpy>=1.26.0 in /Users/1102680/ws/test/duckdb/.venv/lib/python3.13/site-packages (from pandas) (2.3.1)\n",
      "Requirement already satisfied: python-dateutil>=2.8.2 in /Users/1102680/ws/test/duckdb/.venv/lib/python3.13/site-packages (from pandas) (2.9.0.post0)\n",
      "Requirement already satisfied: pytz>=2020.1 in /Users/1102680/ws/test/duckdb/.venv/lib/python3.13/site-packages (from pandas) (2025.2)\n",
      "Requirement already satisfied: tzdata>=2022.7 in /Users/1102680/ws/test/duckdb/.venv/lib/python3.13/site-packages (from pandas) (2025.2)\n",
      "Requirement already satisfied: six>=1.5 in /Users/1102680/ws/test/duckdb/.venv/lib/python3.13/site-packages (from python-dateutil>=2.8.2->pandas) (1.17.0)\n",
      "Downloading pyarrow-20.0.0-cp313-cp313-macosx_12_0_arm64.whl (30.8 MB)\n",
      "\u001b[2K   \u001b[38;2;114;156;31m━━━━━━━━━━━━━━━━━━━━━━━━━━━━━━━━━━━━━━━━\u001b[0m \u001b[32m30.8/30.8 MB\u001b[0m \u001b[31m3.8 MB/s\u001b[0m eta \u001b[36m0:00:00\u001b[0m[36m0:00:01\u001b[0m[36m0:00:01\u001b[0m:01\u001b[0m\n",
      "\u001b[?25hInstalling collected packages: pyarrow\n",
      "Successfully installed pyarrow-20.0.0\n"
     ]
    }
   ],
   "source": [
    "! pip install duckdb pandas pyarrow"
   ]
  },
  {
   "cell_type": "code",
   "execution_count": null,
   "id": "6dcac8d8",
   "metadata": {},
   "outputs": [
    {
     "name": "stdout",
     "output_type": "stream",
     "text": [
      "   id value\n",
      "0   1     A\n",
      "1   2     B\n",
      "2   3     C\n",
      "3   4     D\n",
      "4   5     E\n"
     ]
    }
   ],
   "source": [
    "import duckdb\n",
    "import pandas as pd\n",
    "import pyarrow as pa\n",
    "import os\n",
    "\n",
    "import pyarrow.parquet as pq\n",
    "\n",
    "# 샘플 데이터프레임 생성\n",
    "df = pd.DataFrame({\n",
    "    'id': range(1, 6),\n",
    "    'value': ['A', 'B', 'C', 'D', 'E']\n",
    "})\n",
    "\n",
    "# Parquet 파일로 저장\n",
    "parquet_file = 'sample.parquet'          # Parquet 파일 이름\n",
    "df.to_parquet(parquet_file, index=False) # DataFrame을 Parquet 파일로 저장 : index=False는 인덱스를 저장하지 않도록 설정합니다.\n",
    "\n",
    "# DuckDB 연결 및 Parquet 파일 읽기\n",
    "con = duckdb.connect(database=':memory:') # 메모리 내 데이터베이스 사용 : ':memory:'는 메모리 내 데이터베이스를 의미합니다.\n",
    "result = con.execute(f\"SELECT * FROM read_parquet('{parquet_file}')\").fetchdf() # SQL 쿼리 실행 : # Parquet 파일에서 데이터를 읽어 DataFrame으로 변환\n",
    "\n",
    "print(result)\n",
    "\n",
    "# 정리\n",
    "con.close()\n",
    "os.remove(parquet_file)"
   ]
  }
 ],
 "metadata": {
  "kernelspec": {
   "display_name": ".venv",
   "language": "python",
   "name": "python3"
  },
  "language_info": {
   "codemirror_mode": {
    "name": "ipython",
    "version": 3
   },
   "file_extension": ".py",
   "mimetype": "text/x-python",
   "name": "python",
   "nbconvert_exporter": "python",
   "pygments_lexer": "ipython3",
   "version": "3.13.3"
  }
 },
 "nbformat": 4,
 "nbformat_minor": 5
}
