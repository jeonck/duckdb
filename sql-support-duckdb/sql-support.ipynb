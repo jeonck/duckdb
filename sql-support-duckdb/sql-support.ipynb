{
 "cells": [
  {
   "cell_type": "code",
   "execution_count": 1,
   "id": "215d1882",
   "metadata": {},
   "outputs": [
    {
     "name": "stdout",
     "output_type": "stream",
     "text": [
      "Collecting duckdb\n",
      "  Using cached duckdb-1.3.1-cp313-cp313-macosx_12_0_arm64.whl.metadata (7.0 kB)\n",
      "Using cached duckdb-1.3.1-cp313-cp313-macosx_12_0_arm64.whl (15.5 MB)\n",
      "Installing collected packages: duckdb\n",
      "Successfully installed duckdb-1.3.1\n"
     ]
    }
   ],
   "source": [
    "! pip install duckdb\n",
    "import duckdb"
   ]
  },
  {
   "cell_type": "code",
   "execution_count": 2,
   "id": "b16b15b0",
   "metadata": {},
   "outputs": [
    {
     "name": "stdout",
     "output_type": "stream",
     "text": [
      "All employees:\n",
      "[(1, 'John', Decimal('50000.000')), (2, 'Alice', Decimal('60000.000')), (3, 'Bob', Decimal('55000.000'))]\n",
      "\n",
      "Employees with salary > 55000:\n",
      "[('Alice', Decimal('60000.000'))]\n",
      "\n",
      "Average salary:\n",
      "[(55000.0,)]\n"
     ]
    }
   ],
   "source": [
    "# Create a sample table using DuckDB\n",
    "con = duckdb.connect()\n",
    "\n",
    "# Create and insert sample data\n",
    "con.execute(\"\"\"\n",
    "CREATE TABLE employees (\n",
    "    id INTEGER,\n",
    "    name VARCHAR,\n",
    "    salary DECIMAL\n",
    ");\n",
    "\n",
    "INSERT INTO employees VALUES \n",
    "    (1, 'John', 50000),\n",
    "    (2, 'Alice', 60000),\n",
    "    (3, 'Bob', 55000);\n",
    "\"\"\")\n",
    "\n",
    "# Demonstrate SQL queries\n",
    "print(\"All employees:\")\n",
    "print(con.execute(\"SELECT * FROM employees\").fetchall())\n",
    "\n",
    "print(\"\\nEmployees with salary > 55000:\")\n",
    "print(con.execute(\"SELECT name, salary FROM employees WHERE salary > 55000\").fetchall())\n",
    "\n",
    "print(\"\\nAverage salary:\")\n",
    "print(con.execute(\"SELECT AVG(salary) as avg_salary FROM employees\").fetchall())"
   ]
  },
  {
   "cell_type": "code",
   "execution_count": null,
   "id": "1953fdca",
   "metadata": {},
   "outputs": [],
   "source": []
  }
 ],
 "metadata": {
  "kernelspec": {
   "display_name": ".venv",
   "language": "python",
   "name": "python3"
  },
  "language_info": {
   "codemirror_mode": {
    "name": "ipython",
    "version": 3
   },
   "file_extension": ".py",
   "mimetype": "text/x-python",
   "name": "python",
   "nbconvert_exporter": "python",
   "pygments_lexer": "ipython3",
   "version": "3.13.3"
  }
 },
 "nbformat": 4,
 "nbformat_minor": 5
}
