{
 "cells": [
  {
   "cell_type": "code",
   "execution_count": null,
   "id": "37630ebc",
   "metadata": {},
   "outputs": [],
   "source": [
    "# Jupyter notebook staring\n",
    "print(\"hello pandas\")"
   ]
  }
 ],
 "metadata": {
  "language_info": {
   "name": "python"
  }
 },
 "nbformat": 4,
 "nbformat_minor": 5
}
